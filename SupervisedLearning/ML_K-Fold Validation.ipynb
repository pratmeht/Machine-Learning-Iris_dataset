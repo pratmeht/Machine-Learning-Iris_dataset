{
 "cells": [
  {
   "cell_type": "markdown",
   "metadata": {},
   "source": [
    "### ML program to understand K-Fold Validation on IRIS dataset"
   ]
  },
  {
   "cell_type": "markdown",
   "metadata": {},
   "source": [
    "In order to train our Machine Learning model and then test it to know that it works fine, we divide the dataset in train and test. Usually the ratio is either  70:30 or 80:20 or 90:10. The method is popularly referred as 'train/test split'. \n",
    "\n",
    "There is one problem is above method - The data used for training will be the only data on which model will be trained on. That means, we are not using our data part of 'testing data' in training our model. Considering the the fact that more the data provides best results for model training, this method does not seem optimal. Also training on limited set of data could cause a problem referred as 'over-fitting'.\n",
    "\n",
    "\n",
    "So to avoid over-fitting, we will use a better approach - \"K-Fold Validation technique\"\n",
    "This technique makes sures that every sample is used for training and testing. Thus we get the most accurate model"
   ]
  },
  {
   "cell_type": "code",
   "execution_count": 3,
   "metadata": {},
   "outputs": [],
   "source": [
    "from sklearn.datasets import load_iris\n",
    "import pandas as pd"
   ]
  },
  {
   "cell_type": "code",
   "execution_count": 4,
   "metadata": {},
   "outputs": [],
   "source": [
    "iris = load_iris()"
   ]
  },
  {
   "cell_type": "code",
   "execution_count": 13,
   "metadata": {},
   "outputs": [
    {
     "name": "stdout",
     "output_type": "stream",
     "text": [
      "[[5.1 3.5 1.4 0.2]\n",
      " [4.9 3.  1.4 0.2]\n",
      " [4.7 3.2 1.3 0.2]]\n"
     ]
    }
   ],
   "source": [
    "# checking whether we have correct data loaded in our variable 'iris'\n",
    "print(iris.data[:3])"
   ]
  },
  {
   "cell_type": "code",
   "execution_count": 18,
   "metadata": {},
   "outputs": [
    {
     "data": {
      "text/plain": [
       "dict_keys(['data', 'target', 'target_names', 'DESCR', 'feature_names'])"
      ]
     },
     "execution_count": 18,
     "metadata": {},
     "output_type": "execute_result"
    }
   ],
   "source": [
    "iris.keys()"
   ]
  },
  {
   "cell_type": "code",
   "execution_count": 21,
   "metadata": {},
   "outputs": [
    {
     "data": {
      "text/plain": [
       "array(['setosa', 'versicolor', 'virginica'], dtype='<U10')"
      ]
     },
     "execution_count": 21,
     "metadata": {},
     "output_type": "execute_result"
    }
   ],
   "source": [
    "# Printing the names of iris flower types\n",
    "iris.target_names"
   ]
  },
  {
   "cell_type": "code",
   "execution_count": 20,
   "metadata": {},
   "outputs": [
    {
     "data": {
      "text/plain": [
       "array([0, 0, 0, 0, 0, 0, 0, 0, 0, 0, 0, 0, 0, 0, 0, 0, 0, 0, 0, 0, 0, 0,\n",
       "       0, 0, 0, 0, 0, 0, 0, 0, 0, 0, 0, 0, 0, 0, 0, 0, 0, 0, 0, 0, 0, 0,\n",
       "       0, 0, 0, 0, 0, 0, 1, 1, 1, 1, 1, 1, 1, 1, 1, 1, 1, 1, 1, 1, 1, 1,\n",
       "       1, 1, 1, 1, 1, 1, 1, 1, 1, 1, 1, 1, 1, 1, 1, 1, 1, 1, 1, 1, 1, 1,\n",
       "       1, 1, 1, 1, 1, 1, 1, 1, 1, 1, 1, 1, 2, 2, 2, 2, 2, 2, 2, 2, 2, 2,\n",
       "       2, 2, 2, 2, 2, 2, 2, 2, 2, 2, 2, 2, 2, 2, 2, 2, 2, 2, 2, 2, 2, 2,\n",
       "       2, 2, 2, 2, 2, 2, 2, 2, 2, 2, 2, 2, 2, 2, 2, 2, 2, 2])"
      ]
     },
     "execution_count": 20,
     "metadata": {},
     "output_type": "execute_result"
    }
   ],
   "source": [
    "iris.target"
   ]
  },
  {
   "cell_type": "code",
   "execution_count": 23,
   "metadata": {},
   "outputs": [
    {
     "data": {
      "text/plain": [
       "(150, 4)"
      ]
     },
     "execution_count": 23,
     "metadata": {},
     "output_type": "execute_result"
    }
   ],
   "source": [
    "iris.data.shape"
   ]
  },
  {
   "cell_type": "code",
   "execution_count": 24,
   "metadata": {},
   "outputs": [
    {
     "data": {
      "text/plain": [
       "(150,)"
      ]
     },
     "execution_count": 24,
     "metadata": {},
     "output_type": "execute_result"
    }
   ],
   "source": [
    "iris.target.shape"
   ]
  },
  {
   "cell_type": "code",
   "execution_count": 27,
   "metadata": {},
   "outputs": [],
   "source": [
    "import matplotlib.pyplot as plt"
   ]
  },
  {
   "cell_type": "markdown",
   "metadata": {},
   "source": [
    "Before we begin, let us visualize our data"
   ]
  },
  {
   "cell_type": "code",
   "execution_count": 52,
   "metadata": {},
   "outputs": [
    {
     "data": {
      "text/plain": [
       "<matplotlib.legend.Legend at 0x28e2aa56d68>"
      ]
     },
     "execution_count": 52,
     "metadata": {},
     "output_type": "execute_result"
    },
    {
     "data": {
      "image/png": "[encoded data removed]",
      "text/plain": [
       "<Figure size 432x288 with 1 Axes>"
      ]
     },
     "metadata": {},
     "output_type": "display_data"
    }
   ],
   "source": [
    "# Segregating the data column-wise\n",
    "\n",
    "petal_len = iris.data[:,0]\n",
    "petal_width = iris.data[:,1]\n",
    "sepal_len = iris.data[:,2]\n",
    "sepal_width = iris.data[:,3]\n",
    "\n",
    "# Plotting it just to get an idea\n",
    "\n",
    "%matplotlib inline\n",
    "petals, = plt.plot(petal_len, petal_width,'r^', label='Petals')\n",
    "sepals, = plt.plot(sepal_len, sepal_width,'g^', label='Sepals')\n",
    "plt.title('Plot of Iris Petals & Sepals')\n",
    "plt.xlabel('Length')\n",
    "plt.ylabel('Width')\n",
    "plt.legend(handles=[petals,sepals])"
   ]
  },
  {
   "cell_type": "markdown",
   "metadata": {},
   "source": [
    "Let us divide our dataset into test and training sets using k-fold validation technique module under sklearn library."
   ]
  },
  {
   "cell_type": "code",
   "execution_count": 55,
   "metadata": {},
   "outputs": [],
   "source": [
    "# Importing the library for K-Fold\n",
    "\n",
    "from sklearn.model_selection import KFold"
   ]
  },
  {
   "cell_type": "code",
   "execution_count": 70,
   "metadata": {},
   "outputs": [],
   "source": [
    "kf = KFold(n_splits=3, shuffle=True)"
   ]
  },
  {
   "cell_type": "code",
   "execution_count": 71,
   "metadata": {},
   "outputs": [
    {
     "data": {
      "text/plain": [
       "sklearn.model_selection._split.KFold"
      ]
     },
     "execution_count": 71,
     "metadata": {},
     "output_type": "execute_result"
    }
   ],
   "source": [
    "type(kf)"
   ]
  },
  {
   "cell_type": "code",
   "execution_count": 72,
   "metadata": {},
   "outputs": [
    {
     "name": "stdout",
     "output_type": "stream",
     "text": [
      "KFold(n_splits=3, random_state=None, shuffle=True)\n"
     ]
    }
   ],
   "source": [
    "print(kf)"
   ]
  },
  {
   "cell_type": "code",
   "execution_count": 73,
   "metadata": {},
   "outputs": [
    {
     "data": {
      "text/plain": [
       "3"
      ]
     },
     "execution_count": 73,
     "metadata": {},
     "output_type": "execute_result"
    }
   ],
   "source": [
    "X = iris.data\n",
    "y = iris.target\n",
    "kf.get_n_splits(X, y)"
   ]
  },
  {
   "cell_type": "code",
   "execution_count": 74,
   "metadata": {},
   "outputs": [
    {
     "name": "stdout",
     "output_type": "stream",
     "text": [
      "KFold(n_splits=3, random_state=None, shuffle=True)\n"
     ]
    }
   ],
   "source": [
    "print(kf)"
   ]
  },
  {
   "cell_type": "code",
   "execution_count": 75,
   "metadata": {},
   "outputs": [
    {
     "data": {
      "text/plain": [
       "<generator object _BaseKFold.split at 0x0000028E2AB88468>"
      ]
     },
     "execution_count": 75,
     "metadata": {},
     "output_type": "execute_result"
    }
   ],
   "source": [
    "kf.split(y)"
   ]
  },
  {
   "cell_type": "code",
   "execution_count": 76,
   "metadata": {},
   "outputs": [
    {
     "name": "stdout",
     "output_type": "stream",
     "text": [
      "train [  2   3   4   5   7   8   9  10  11  12  13  14  15  17  18  20  21  22\n",
      "  23  26  27  31  32  33  35  36  39  40  41  42  43  44  45  46  47  49\n",
      "  52  54  55  57  58  59  60  61  62  63  64  65  66  68  69  70  71  72\n",
      "  74  76  81  82  83  84  86  88  89  90  91  93  96  97  99 100 102 105\n",
      " 106 108 109 111 112 113 117 118 120 121 124 125 126 127 128 129 132 133\n",
      " 135 136 137 138 139 140 142 145 146 147] \n",
      "\n",
      "test [  0   1   6  16  19  24  25  28  29  30  34  37  38  48  50  51  53  56\n",
      "  67  73  75  77  78  79  80  85  87  92  94  95  98 101 103 104 107 110\n",
      " 114 115 116 119 122 123 130 131 134 141 143 144 148 149] \n",
      "\n",
      " ######### \n",
      "\n",
      "\n",
      "train [  0   1   2   4   6   7  11  13  15  16  19  20  21  23  24  25  28  29\n",
      "  30  31  32  33  34  35  37  38  39  40  41  42  43  46  47  48  49  50\n",
      "  51  53  56  58  59  62  63  64  67  69  73  74  75  76  77  78  79  80\n",
      "  81  84  85  86  87  88  91  92  94  95  96  98 100 101 103 104 105 107\n",
      " 109 110 112 113 114 115 116 118 119 121 122 123 126 129 130 131 133 134\n",
      " 135 136 137 140 141 143 144 146 148 149] \n",
      "\n",
      "test [  3   5   8   9  10  12  14  17  18  22  26  27  36  44  45  52  54  55\n",
      "  57  60  61  65  66  68  70  71  72  82  83  89  90  93  97  99 102 106\n",
      " 108 111 117 120 124 125 127 128 132 138 139 142 145 147] \n",
      "\n",
      " ######### \n",
      "\n",
      "\n",
      "train [  0   1   3   5   6   8   9  10  12  14  16  17  18  19  22  24  25  26\n",
      "  27  28  29  30  34  36  37  38  44  45  48  50  51  52  53  54  55  56\n",
      "  57  60  61  65  66  67  68  70  71  72  73  75  77  78  79  80  82  83\n",
      "  85  87  89  90  92  93  94  95  97  98  99 101 102 103 104 106 107 108\n",
      " 110 111 114 115 116 117 119 120 122 123 124 125 127 128 130 131 132 134\n",
      " 138 139 141 142 143 144 145 147 148 149] \n",
      "\n",
      "test [  2   4   7  11  13  15  20  21  23  31  32  33  35  39  40  41  42  43\n",
      "  46  47  49  58  59  62  63  64  69  74  76  81  84  86  88  91  96 100\n",
      " 105 109 112 113 118 121 126 129 133 135 136 137 140 146] \n",
      "\n",
      " ######### \n",
      "\n",
      "\n"
     ]
    }
   ],
   "source": [
    "for train_index, test_index in kf.split(y):\n",
    "    print('train', train_index, '\\n\\ntest', test_index, '\\n\\n ######### \\n\\n')\n",
    "    y_train, y_test = y[train_index], y[test_index]"
   ]
  },
  {
   "cell_type": "code",
   "execution_count": null,
   "metadata": {},
   "outputs": [],
   "source": []
  }
 ],
 "metadata": {
  "kernelspec": {
   "display_name": "Python 3",
   "language": "python",
   "name": "python3"
  },
  "language_info": {
   "codemirror_mode": {
    "name": "ipython",
    "version": 3
   },
   "file_extension": ".py",
   "mimetype": "text/x-python",
   "name": "python",
   "nbconvert_exporter": "python",
   "pygments_lexer": "ipython3",
   "version": "3.6.5"
  }
 },
 "nbformat": 4,
 "nbformat_minor": 2
}
